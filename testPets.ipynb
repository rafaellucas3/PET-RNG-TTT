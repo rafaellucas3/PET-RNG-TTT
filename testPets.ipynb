{
 "cells": [
  {
   "cell_type": "code",
   "execution_count": 143,
   "metadata": {},
   "outputs": [],
   "source": [
    "pets = {\n",
    "    'none'         : {'name': 'None',     'icon': 'assets/pets/png/none.png',     'hp': 0, 'res': 0, 'ability': ''},\n",
    "    'koala'        : {'name': 'Koala',    'icon': 'assets/pets/png/koala.png',    'hp': 3, 'res': 2, 'ability': 'Heals one HP in one random space in + direction.'},\n",
    "    'panda'        : {'name': 'Panda',    'icon': 'assets/pets/png/panda.png',    'hp': 2, 'res': 2, 'ability': 'Deals one damage in + direction.'},\n",
    "    'tiger'        : {'name': 'Tiger',    'icon': 'assets/pets/png/tiger.png',    'hp': 2, 'res': 2, 'ability': 'Deals one damage in x direction.'},\n",
    "    'snake'        : {'name': 'Snake',    'icon': 'assets/pets/png/snake.png',    'hp': 1, 'res': 2, 'ability': 'Deals one damage in one random + direction and inflicts poison.'},\n",
    "    'capybara'     : {'name': 'Capybara', 'icon': 'assets/pets/png/capybara.png', 'hp': 1, 'res': 3, 'ability': 'It is immune for 2 turns.'},\n",
    "    'bunny'        : {'name': 'Bunny',    'icon': 'assets/pets/png/bunny.png',    'hp': 1, 'res': 1, 'ability': 'No special ability.'},\n",
    "    'monkey'       : {'name': 'Monkey',   'icon': 'assets/pets/png/monkey.png',   'hp': 2, 'res': 2, 'ability': 'When hurt, moves one space to a random + direction if empty.'},\n",
    "    'pig'          : {'name': 'Pig',      'icon': 'assets/pets/png/pig.png',      'hp': 2, 'res': 1, 'ability': 'No special ability.'},\n",
    "    'leo'          : {'name': 'Leo',      'icon': 'assets/pets/png/leo.png',      'hp': 3, 'res': 3, 'ability': 'Deals one damage in all directions.'},\n",
    "}\n",
    "\n",
    "class Pet():\n",
    "    def __init__(self, pet: dict, player: int):\n",
    "        self.name = pet['name']\n",
    "        self.icon = pet['icon']\n",
    "        self.total_hp = pet['hp']\n",
    "        self.res_cost = pet['res']\n",
    "        self.ability = pet['ability']\n",
    "        self.owner = player\n",
    "\n",
    "        self.current_hp = self.total_hp\n",
    "        self.poisoned = False\n",
    "        self.is_alive = True\n",
    "    \n",
    "    def __repr__(self):\n",
    "        #set output of print\n",
    "        return repr(f'P{self.owner} {self.name} [{self.current_hp}]')\n",
    "    \n",
    "    def take_damage(self, damage):\n",
    "        self.current_hp -= damage\n",
    "        print(f'{self.name} took {damage} point of damage.')\n",
    "        self.check_alive()\n",
    "\n",
    "    def check_alive(self):\n",
    "        if self.current_hp <= 0:\n",
    "            self.is_alive = False\n",
    "        else:\n",
    "            self.is_alive = True\n",
    "\n",
    "class Player():\n",
    "    def __init__(self):\n",
    "        self.hand = []"
   ]
  },
  {
   "cell_type": "code",
   "execution_count": 144,
   "metadata": {},
   "outputs": [],
   "source": [
    "all_pets = list(pets.keys())\n",
    "all_pets = all_pets[1:]"
   ]
  },
  {
   "cell_type": "code",
   "execution_count": 145,
   "metadata": {},
   "outputs": [
    {
     "name": "stdout",
     "output_type": "stream",
     "text": [
      "[['P1 Koala [3]' 'P1 Panda [2]' 'P1 Tiger [2]']\n",
      " ['P1 Snake [1]' 'P1 Capybara [1]' 'P1 Bunny [1]']\n",
      " ['P1 Monkey [2]' 'P1 Pig [2]' 'P1 Leo [3]']]\n"
     ]
    }
   ],
   "source": [
    "import numpy as np\n",
    "objs = np.array([Pet(pets[pet], 1) for pet in all_pets]).reshape((3,3))\n",
    "print(objs)"
   ]
  },
  {
   "cell_type": "code",
   "execution_count": 137,
   "metadata": {},
   "outputs": [
    {
     "name": "stdout",
     "output_type": "stream",
     "text": [
      "Koala took 1 point of damage.\n",
      "0\n",
      "False\n"
     ]
    }
   ],
   "source": [
    "objs[0][0].take_damage(1)\n",
    "print(objs[0][0].current_hp)\n",
    "print(objs[0][0].is_alive)"
   ]
  },
  {
   "cell_type": "code",
   "execution_count": 148,
   "metadata": {},
   "outputs": [
    {
     "name": "stdout",
     "output_type": "stream",
     "text": [
      "[['P1 Koala [3]' 'P1 Panda [2]' 'P1 Tiger [2]']\n",
      " ['P1 Snake [1]' 'P1 Capybara [1]' 'P1 Bunny [1]']\n",
      " ['P1 Monkey [2]' 'P1 Pig [2]' 'P1 Leo [3]']]\n"
     ]
    }
   ],
   "source": [
    "bool_index = [[objs[i][j].is_alive == False for j in range(3)] for i in range(3)]\n",
    "where = np.where(bool_index)\n",
    "list_of_coordinates = list(zip(where[0], where[1]))\n",
    "print(objs)"
   ]
  },
  {
   "cell_type": "code",
   "execution_count": 152,
   "metadata": {},
   "outputs": [
    {
     "data": {
      "text/plain": [
       "array([['P1 Koala [3]', 'P0 None [0]', 'P1 Tiger [2]'],\n",
       "       ['P1 Snake [1]', 'P1 Capybara [1]', 'P1 Bunny [1]'],\n",
       "       ['P1 Monkey [2]', 'P1 Pig [2]', 'P1 Leo [3]']], dtype=object)"
      ]
     },
     "execution_count": 152,
     "metadata": {},
     "output_type": "execute_result"
    }
   ],
   "source": [
    "objs[0][1] = Pet(pets['none'], 0)\n",
    "objs"
   ]
  },
  {
   "cell_type": "code",
   "execution_count": null,
   "metadata": {},
   "outputs": [],
   "source": [
    "'n', 'ne', 'e', 'se', 's', 'sw', 'w', 'nw'"
   ]
  }
 ],
 "metadata": {
  "interpreter": {
   "hash": "34b32c09fca0dd30a3ba6c40048e557e98de75de4e8570002b37180823920224"
  },
  "kernelspec": {
   "display_name": "Python 3.8.8 64-bit ('base': conda)",
   "name": "python3"
  },
  "language_info": {
   "codemirror_mode": {
    "name": "ipython",
    "version": 3
   },
   "file_extension": ".py",
   "mimetype": "text/x-python",
   "name": "python",
   "nbconvert_exporter": "python",
   "pygments_lexer": "ipython3",
   "version": "3.8.8"
  },
  "orig_nbformat": 4
 },
 "nbformat": 4,
 "nbformat_minor": 2
}
